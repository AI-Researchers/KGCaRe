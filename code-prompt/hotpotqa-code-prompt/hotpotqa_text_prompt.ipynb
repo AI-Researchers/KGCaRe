{
 "cells": [
  {
   "cell_type": "code",
   "execution_count": 1,
   "metadata": {},
   "outputs": [],
   "source": [
    "import json\n",
    "import os\n",
    "from glob import glob\n",
    "\n",
    "from langchain.callbacks import get_openai_callback\n",
    "from langchain.chat_models import AzureChatOpenAI, ChatOpenAI\n",
    "from tqdm.notebook import tqdm\n",
    "\n",
    "from src.hotpotqa.evaluation import evaluate\n",
    "from src.hotpotqa.oracle_retriever import get_summarized_doc, get_hotpot_doc_content\n",
    "from src.hotpotqa.text_prompt import TextPrompt\n",
    "from src.utils import get_current_time, print_chain_stats\n",
    "from datetime import datetime"
   ]
  },
  {
   "cell_type": "code",
   "execution_count": null,
   "metadata": {},
   "outputs": [],
   "source": [
    "num_dev_examples = 500   # number of examples to evaluate (full dev set)\n",
    "num_demonstrations = 2 #6 \n",
    "save_results = True\n",
    "\n",
    "# llm_name = \"gpt-3.5-turbo-16k-0613\"\n",
    "# llm_name = \"gpt-3.5-turbo\"\n",
    "llm_name = \"gpt-4o\"\n",
    "# llm_name = \"mistralai/Mistral-7B-Instruct-v0.2\"\n",
    "# llm_name = \"mistralai/Mixtral-8X7B-Instruct-v0.1\"\n",
    "\n",
    "start_idx = 0 # starting index to evaluate of the dev set. Only modify if you want to skip some examples\n",
    "end_idx = start_idx + num_dev_examples"
   ]
  },
  {
   "cell_type": "code",
   "execution_count": null,
   "metadata": {},
   "outputs": [
    {
     "name": "stderr",
     "output_type": "stream",
     "text": [
      "/tmp/ipykernel_144052/4049086685.py:4: LangChainDeprecationWarning: The class `ChatOpenAI` was deprecated in LangChain 0.0.10 and will be removed in 1.0. An updated version of the class exists in the langchain-openai package and should be used instead. To use it run `pip install -U langchain-openai` and import as `from langchain_openai import ChatOpenAI`.\n",
      "  llm = ChatOpenAI(\n"
     ]
    }
   ],
   "source": [
    "#if you use vLLM\n",
    "inference_server_url = \"http://0.0.0.0:8000/v1\"\n",
    "llm = ChatOpenAI(\n",
    "    model = \"mistralai/Mistral-7B-Instruct-v0.2\",\n",
    "    openai_api_key=\"token-abc123\",\n",
    "    openai_api_base=inference_server_url,\n",
    "    max_tokens=30,\n",
    "    temperature=0,\n",
    ")"
   ]
  },
  {
   "cell_type": "code",
   "execution_count": null,
   "metadata": {},
   "outputs": [],
   "source": [
    "# if you use Azure OpenAI Service\n",
    "os.environ[\"OPENAI_API_TYPE\"] = \"\"\n",
    "os.environ[\"OPENAI_API_VERSION\"] = \"\"\n",
    "os.environ[\"OPENAI_API_BASE\"] = \"\"\n",
    "os.environ[\"OPENAI_API_KEY\"] = \"\"\n",
    "\n",
    "llm = AzureChatOpenAI(\n",
    "    deployment_name=llm_name,\n",
    "    temperature=0.0,\n",
    "    request_timeout=30,\n",
    "    max_retries=3,\n",
    "    timeout=60 * 3,\n",
    ")"
   ]
  },
  {
   "cell_type": "code",
   "execution_count": null,
   "metadata": {},
   "outputs": [
    {
     "name": "stderr",
     "output_type": "stream",
     "text": [
      "/tmp/ipykernel_653463/3916793100.py:3: LangChainDeprecationWarning: The class `ChatOpenAI` was deprecated in LangChain 0.0.10 and will be removed in 1.0. An updated version of the class exists in the langchain-openai package and should be used instead. To use it run `pip install -U langchain-openai` and import as `from langchain_openai import ChatOpenAI`.\n",
      "  llm = ChatOpenAI(api_key=openai_api_key, model=llm_name, temperature=0.0, request_timeout=30, max_retries=3, timeout=60 * 3)\n"
     ]
    }
   ],
   "source": [
    "# if you use OpenAI API\n",
    "openai_api_key = \"\"\n",
    "llm = ChatOpenAI(api_key=openai_api_key, model=llm_name, temperature=0.0, request_timeout=30, max_retries=3, timeout=60 * 3)"
   ]
  },
  {
   "cell_type": "code",
   "execution_count": null,
   "metadata": {},
   "outputs": [],
   "source": [
    "with open(\"data/HotpotQA/hotpot_random_eg_dev.json\") as f:\n",
    "    train = json.load(f)\n",
    "\n",
    "with open(\"data/HotpotQA/stratified_hotpotqa_500sample.json\") as f:\n",
    "    dev = json.load(f)\n"
   ]
  },
  {
   "cell_type": "code",
   "execution_count": null,
   "metadata": {},
   "outputs": [],
   "source": [
    "## RUN THIS. DO NOT CHANGE\n",
    "current_time = datetime.now().strftime(\"%Y_%m_%d-%I_%M_%S_%p\")\n",
    "output_path = os.path.join(\n",
    "    \"outputs/HotpotQA/ICL/TextPrompt/\",\n",
    "    llm_name,\n",
    "    f\"ICL_{num_demonstrations}\",\n",
    "    f\"dev{start_idx}_{end_idx}\",\n",
    "    \"w_txt_rationales\",\n",
    ")\n",
    "\n",
    "# by default seed = 0. But it will be set to the number of runs if save_results = True\n",
    "seed = 0\n",
    "# make output path\n",
    "if save_results:\n",
    "    # creating the base folder\n",
    "    os.makedirs(output_path, exist_ok=True)\n",
    "    # creating the run folder\n",
    "    num_runs = len(glob(os.path.join(output_path, \"*\")))\n",
    "    seed = num_runs\n",
    "    output_path = os.path.join(output_path, f\"run_{num_runs}\", f\"seed_{seed}\", f\"{current_time}\")\n",
    "    os.makedirs(output_path, exist_ok=True)\n",
    "    print(f\"Output path: {output_path}\")\n",
    "\n",
    "model = TextPrompt(\n",
    "    llm,\n",
    "    train,\n",
    "    use_rationales=True,\n",
    "    use_conditions=True,\n",
    "    num_span_examples=num_demonstrations,\n",
    "    num_yn_examples=num_demonstrations,\n",
    "    seed=seed,\n",
    ")\n",
    "\n",
    "openai_metadata = {\n",
    "    \"completion_tokens\": [],\n",
    "    \"total_cost\": [],\n",
    "    \"total_tokens\": [],\n",
    "    \"prompt_tokens\": [],\n",
    "}\n",
    "\n",
    "list_answers = []\n",
    "pbar = tqdm(dev[start_idx:end_idx]) #start_idx:end_idx\n",
    "for x in pbar:\n",
    "    question = x[\"question\"]\n",
    "    summarized_doc = get_hotpot_doc_content(x)\n",
    "    gold_ans = x[\"answer\"]\n",
    "\n",
    "    answer = model(question, gold_ans, summarized_doc)\n",
    "    \n",
    "    current_answer = {\n",
    "        \"id\": x[\"_id\"],\n",
    "        \"question\": question,\n",
    "        \"gold_answer\": gold_ans,\n",
    "        \"generated_answer\": answer\n",
    "    }\n",
    "\n",
    "    # pbar.set_description(\n",
    "    #     f\"Current total cost: {sum(openai_metadata['total_cost']):.2f}\"\n",
    "    # )\n",
    "    with open(os.path.join(output_path, \"output.json\"), \"a\") as f:\n",
    "        json.dump(current_answer, f)\n",
    "        f.write('\\n')\n",
    "\n",
    "# evaluation\n",
    "# results = evaluate(\n",
    "#     {d[\"id\"]: d[\"answers\"] for d in list_answers},\n",
    "#     dev[start_idx:end_idx],\n",
    "# )\n",
    "\n",
    "# if save_results:\n",
    "    # store outputs\n",
    "    # with open(os.path.join(output_path, \"output.json\"), \"w\") as f:\n",
    "    #     json.dump(list_answers, f)\n",
    "    \n",
    "    # # store openai metadata\n",
    "    # with open(os.path.join(output_path, \"openai_metadata.json\"), \"w\") as f:\n",
    "    #     json.dump(openai_metadata, f, indent=4)\n",
    "    # # store results\n",
    "    # with open(os.path.join(output_path, \"results.json\"), \"w\") as f:\n",
    "    #     json.dump(results, f, indent=4)\n",
    "    # # store timestamp\n",
    "    # with open(os.path.join(output_path, \"timestamp.txt\"), \"w\") as f:\n",
    "    #     f.write(get_current_time())\n",
    "\n",
    "# print(\"## OpenAI Metadata ##\")\n",
    "# print_chain_stats(openai_metadata)\n",
    "# print(\"\\n\\n## Results ##\")\n",
    "# print(json.dumps(results, indent=4))"
   ]
  },
  {
   "cell_type": "code",
   "execution_count": 3,
   "metadata": {},
   "outputs": [],
   "source": [
    "generated_output_file = \"./outputs/HotpotQA/ICL/TextPrompt/mistralai/Mixtral-8X7B-Instruct-v0.1/ICL_2/dev0_7405/w_txt_rationales/run_0/seed_0/2025_07_18-02_11_51_PM/output_reformatted_500sample.json\"\n",
    "\n",
    "# transformed_data = {\"answer\": {}}\n",
    "\n",
    "# Open the input JSON file\n",
    "with open(generated_output_file, 'r') as infile: #, open('output.json', 'w') as outfile:\n",
    "    # Read each line from the input file\n",
    "    for line in infile:\n",
    "        # Load the line as a dictionary\n",
    "        data = json.loads(line.strip())\n",
    "\n",
    "        # total_predictions = [\n",
    "        #     {\"_id\": data[\"id\"], \"predicted_answer\": data[\"generated_answer\"]}\n",
    "            \n",
    "        # ]\n",
    "\n",
    "    total_predictions = []\n",
    "    for id, answer in data['answer'].items():\n",
    "        total_predictions.append({\"_id\": id, \"predicted_answer\": answer})\n",
    "\n",
    "# Write the transformed data to the output file\n",
    "with open('./evaluation/prediction_results/Textprompt_mx_output_reformatted_500sample.json', 'w') as outfile:\n",
    "    outfile.write(json.dumps(total_predictions) + '\\n')  "
   ]
  }
 ],
 "metadata": {
  "kernelspec": {
   "display_name": "vllm_v2",
   "language": "python",
   "name": "python3"
  },
  "language_info": {
   "codemirror_mode": {
    "name": "ipython",
    "version": 3
   },
   "file_extension": ".py",
   "mimetype": "text/x-python",
   "name": "python",
   "nbconvert_exporter": "python",
   "pygments_lexer": "ipython3",
   "version": "3.10.14"
  }
 },
 "nbformat": 4,
 "nbformat_minor": 2
}
